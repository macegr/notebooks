{
 "cells": [
  {
   "cell_type": "code",
   "execution_count": 2,
   "metadata": {},
   "outputs": [],
   "source": [
    "import numpy as np"
   ]
  },
  {
   "cell_type": "code",
   "execution_count": 7,
   "metadata": {},
   "outputs": [
    {
     "name": "stdout",
     "output_type": "stream",
     "text": [
      "Narrow tape: 87.33333333333333  yards\n",
      "Wide tape: 87.77708763999664  yards\n",
      "Foil tape: 74.88854381999832  yards\n"
     ]
    }
   ],
   "source": [
    "# H12 hexayurt\n",
    "\n",
    "edge_s = 4.5\n",
    "edge_l = 8.5\n",
    "edge_h = np.hypot(4,8)\n",
    "\n",
    "# sealing short edges and expo\n",
    "roof_half_narrow_tape = (12*edge_s + 2*edge_l)\n",
    "\n",
    "# creating tape hinges, no additional sealing\n",
    "roof_half_wide_tape = 2 * (3 * edge_h + 2 * edge_l)\n",
    "\n",
    "# double tape for both halves of roof\n",
    "roof_narrow_tape = 2 * roof_half_narrow_tape\n",
    "roof_wide_tape = 2 * roof_half_wide_tape\n",
    "\n",
    "# sealing wall edges\n",
    "wall_half_narrow_tape = 3 * (2 * edge_l) + (2 * edge_s)\n",
    "\n",
    "# wall tape hinges\n",
    "wall_half_wide_tape = 2 * (2 * edge_s)\n",
    "\n",
    "# double tape for both halves of wall\n",
    "wall_narrow_tape = 2 * wall_half_narrow_tape\n",
    "wall_wide_tape = 2 * wall_half_wide_tape\n",
    "\n",
    "# tape for building on playa\n",
    "wide_build_tape = 4 * edge_s + 4 * edge_l\n",
    "\n",
    "\n",
    "# construction tape totals\n",
    "narrow_tape = roof_narrow_tape + wall_narrow_tape\n",
    "wide_tape = roof_wide_tape + wall_wide_tape + wide_build_tape\n",
    "\n",
    "# foil tape calculations\n",
    "roof_foil_tape = 6 * edge_h + 6 * edge_l\n",
    "wall_foil_tape = 12 * edge_l + 4 * edge_s\n",
    "foil_tape = roof_foil_tape + wall_foil_tape\n",
    "\n",
    "print('Narrow tape:', narrow_tape/3,' yards')\n",
    "print('Wide tape:', wide_tape/3,' yards')\n",
    "print('Foil tape:', foil_tape/3,' yards')"
   ]
  },
  {
   "cell_type": "code",
   "execution_count": 8,
   "metadata": {},
   "outputs": [
    {
     "name": "stdout",
     "output_type": "stream",
     "text": [
      "Narrow tape: 21.0  yards\n",
      "Wide tape: 35.88854381999832  yards\n",
      "Foil tape: 32.94427190999916  yards\n"
     ]
    }
   ],
   "source": [
    "# H5 hexayurt\n",
    "\n",
    "edge_s = 4.5\n",
    "edge_l = 4.5\n",
    "edge_h = np.hypot(2,4)\n",
    "\n",
    "roof_narrow_tape = (6 + 2) * edge_s\n",
    "roof_wide_tape = 2 * (5 * edge_h)\n",
    "\n",
    "# double tape for both halves of wall\n",
    "wall_narrow_tape = 6 * edge_l\n",
    "wall_wide_tape = 2 * (5 * edge_s)\n",
    "\n",
    "# tape for building on playa\n",
    "wide_build_tape = 2 * edge_s + 2 * edge_h\n",
    "\n",
    "\n",
    "# construction tape totals\n",
    "narrow_tape = roof_narrow_tape + wall_narrow_tape\n",
    "wide_tape = roof_wide_tape + wall_wide_tape + wide_build_tape\n",
    "\n",
    "# foil tape calculations\n",
    "roof_foil_tape = 6 * edge_h\n",
    "wall_foil_tape = 12 * edge_l + 4 * edge_s\n",
    "foil_tape = roof_foil_tape + wall_foil_tape\n",
    "\n",
    "print('Narrow tape:', narrow_tape/3,' yards')\n",
    "print('Wide tape:', wide_tape/3,' yards')\n",
    "print('Foil tape:', foil_tape/3,' yards')"
   ]
  },
  {
   "cell_type": "code",
   "execution_count": null,
   "metadata": {},
   "outputs": [],
   "source": []
  }
 ],
 "metadata": {
  "kernelspec": {
   "display_name": "Python 3",
   "language": "python",
   "name": "python3"
  },
  "language_info": {
   "codemirror_mode": {
    "name": "ipython",
    "version": 3
   },
   "file_extension": ".py",
   "mimetype": "text/x-python",
   "name": "python",
   "nbconvert_exporter": "python",
   "pygments_lexer": "ipython3",
   "version": "3.6.8"
  }
 },
 "nbformat": 4,
 "nbformat_minor": 2
}
